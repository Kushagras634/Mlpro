{
 "cells": [
  {
   "cell_type": "markdown",
   "id": "8db5a2e5",
   "metadata": {},
   "source": [
    "# **Project: Prediction based on the most efficient classification model**"
   ]
  },
  {
   "cell_type": "markdown",
   "id": "0e66bacd",
   "metadata": {},
   "source": [
    "### Loading necessary libraries needed for this project\n",
    "\n",
    "We are using a lot of predefined functions which are imported from various libraries. The main libraries that we are using are:\n",
    "- nltk\n",
    "- skit-learn\n",
    "- NumPy\n",
    "- matplotlib\n",
    "- string"
   ]
  },
  {
   "cell_type": "code",
   "execution_count": 1,
   "id": "2ae836b6",
   "metadata": {},
   "outputs": [],
   "source": [
    "import numpy as np\n",
    "from sklearn.model_selection import train_test_split\n",
    "import matplotlib.pyplot as plt\n",
    "import nltk\n",
    "import string\n",
    "from nltk import word_tokenize\n",
    "from nltk.stem.porter import PorterStemmer\n",
    "from nltk.corpus import stopwords\n",
    "from sklearn.datasets import fetch_20newsgroups\n",
    "from sklearn.feature_extraction.text import TfidfVectorizer\n",
    "from sklearn.feature_extraction.text import CountVectorizer\n",
    "from sklearn.naive_bayes import MultinomialNB\n",
    "from sklearn.linear_model import LogisticRegression\n",
    "from sklearn.linear_model import SGDClassifier\n",
    "from sklearn import metrics"
   ]
  },
  {
   "cell_type": "markdown",
   "id": "8f111ecb",
   "metadata": {},
   "source": [
    "**Newsgroups Data and List of Stopwords(in English)**\n",
    "\n",
    "We are also initializing four lists:\n",
    "- xp and yp are initialized for plotting a bar graph of accuracy vs feature extraction\n",
    "- xpc and ypc are initialized for plotting a bar graph of accuracy vs classifier model "
   ]
  },
  {
   "cell_type": "code",
   "execution_count": 2,
   "id": "d60df416",
   "metadata": {
    "scrolled": true
   },
   "outputs": [
    {
     "name": "stdout",
     "output_type": "stream",
     "text": [
      "Total Newsgroups : ['alt.atheism', 'comp.graphics', 'comp.os.ms-windows.misc', 'comp.sys.ibm.pc.hardware', 'comp.sys.mac.hardware', 'comp.windows.x', 'misc.forsale', 'rec.autos', 'rec.motorcycles', 'rec.sport.baseball', 'rec.sport.hockey', 'sci.crypt', 'sci.electronics', 'sci.med', 'sci.space', 'soc.religion.christian', 'talk.politics.guns', 'talk.politics.mideast', 'talk.politics.misc', 'talk.religion.misc']\n",
      "\n",
      "Stopwords : ['i', 'me', 'my', 'myself', 'we', 'our', 'ours', 'ourselves', 'you', \"you're\", \"you've\", \"you'll\", \"you'd\", 'your', 'yours', 'yourself', 'yourselves', 'he', 'him', 'his', 'himself', 'she', \"she's\", 'her', 'hers', 'herself', 'it', \"it's\", 'its', 'itself', 'they', 'them', 'their', 'theirs', 'themselves', 'what', 'which', 'who', 'whom', 'this', 'that', \"that'll\", 'these', 'those', 'am', 'is', 'are', 'was', 'were', 'be', 'been', 'being', 'have', 'has', 'had', 'having', 'do', 'does', 'did', 'doing', 'a', 'an', 'the', 'and', 'but', 'if', 'or', 'because', 'as', 'until', 'while', 'of', 'at', 'by', 'for', 'with', 'about', 'against', 'between', 'into', 'through', 'during', 'before', 'after', 'above', 'below', 'to', 'from', 'up', 'down', 'in', 'out', 'on', 'off', 'over', 'under', 'again', 'further', 'then', 'once', 'here', 'there', 'when', 'where', 'why', 'how', 'all', 'any', 'both', 'each', 'few', 'more', 'most', 'other', 'some', 'such', 'no', 'nor', 'not', 'only', 'own', 'same', 'so', 'than', 'too', 'very', 's', 't', 'can', 'will', 'just', 'don', \"don't\", 'should', \"should've\", 'now', 'd', 'll', 'm', 'o', 're', 've', 'y', 'ain', 'aren', \"aren't\", 'couldn', \"couldn't\", 'didn', \"didn't\", 'doesn', \"doesn't\", 'hadn', \"hadn't\", 'hasn', \"hasn't\", 'haven', \"haven't\", 'isn', \"isn't\", 'ma', 'mightn', \"mightn't\", 'mustn', \"mustn't\", 'needn', \"needn't\", 'shan', \"shan't\", 'shouldn', \"shouldn't\", 'wasn', \"wasn't\", 'weren', \"weren't\", 'won', \"won't\", 'wouldn', \"wouldn't\"]\n"
     ]
    }
   ],
   "source": [
    "xpc=[]\n",
    "ypc=[]\n",
    "xp=[]\n",
    "yp=[]\n",
    "print('Total Newsgroups :',fetch_20newsgroups(subset='all').target_names)\n",
    "print()\n",
    "print(\"Stopwords :\",stopwords.words('english'))"
   ]
  },
  {
   "cell_type": "markdown",
   "id": "3e654a9e",
   "metadata": {},
   "source": [
    "### Data Collection\n",
    "\n",
    "Dataset=20 Newsgroups\n",
    "\n",
    "We are splitting the dataset into three parts: training, developing, and testing sets. We will be using training and developing datasets to modify and refine our vocabulary to achieve maximum accuracy for the different classification models.\n",
    "\n",
    "- X_train and Y_train are training datasets on which we are going to train our model.\n",
    "- X_dev and Y_dev are developement datasets on which are going to develope our feature extraction models.\n",
    "- X_test and Y_test are testing datasets on which we are testing our classifier models."
   ]
  },
  {
   "cell_type": "markdown",
   "id": "21ce42ec",
   "metadata": {},
   "source": [
    "*The alternative way of data collection.*"
   ]
  },
  {
   "cell_type": "code",
   "execution_count": 3,
   "id": "aaca2aad",
   "metadata": {},
   "outputs": [
    {
     "name": "stdout",
     "output_type": "stream",
     "text": [
      "Training dataset: 11314\n",
      "Development dataset: 4519\n",
      "Test dataset: 3013\n"
     ]
    }
   ],
   "source": [
    "data_train = fetch_20newsgroups(subset='train')\n",
    "data_test = fetch_20newsgroups(subset='test')\n",
    "X_train,Y_train=data_train.data,data_train.target\n",
    "X_dev, X_test, Y_dev, Y_test = train_test_split(data_test.data, data_test.target, test_size=0.40, random_state=24)\n",
    "print('Training dataset:', len(X_train))\n",
    "print('Development dataset:', len(X_dev))\n",
    "print('Test dataset:', len(X_test))"
   ]
  },
  {
   "cell_type": "markdown",
   "id": "05a92fb2",
   "metadata": {},
   "source": [
    "*The way we are using for this project(By splitting the data from the complete 20 newsgroup)*"
   ]
  },
  {
   "cell_type": "code",
   "execution_count": 4,
   "id": "fcf8d384",
   "metadata": {},
   "outputs": [
    {
     "name": "stdout",
     "output_type": "stream",
     "text": [
      "Training dataset: 14134\n",
      "Development dataset: 2827\n",
      "Test dataset: 1885\n"
     ]
    }
   ],
   "source": [
    "RANDOM_STATE = 24\n",
    "\n",
    "dataset_news=fetch_20newsgroups(subset='all')\n",
    "X_train, X_intermediate, Y_train, Y_intermediate = train_test_split(dataset_news.data,dataset_news.target, test_size=0.25, random_state=RANDOM_STATE)\n",
    "X_dev, X_test, Y_dev, Y_test = train_test_split(X_intermediate, Y_intermediate, test_size=0.40, random_state=RANDOM_STATE)\n",
    "print('Training dataset:', len(X_train))\n",
    "print('Development dataset:', len(X_dev))\n",
    "print('Test dataset:', len(X_test))"
   ]
  },
  {
   "cell_type": "markdown",
   "id": "3f578b83",
   "metadata": {},
   "source": [
    "### Data Wrangling or Data Cleaning"
   ]
  },
  {
   "cell_type": "markdown",
   "id": "339ea678",
   "metadata": {},
   "source": [
    "**Feature Extraction 1: Without preprocessing the data**"
   ]
  },
  {
   "cell_type": "markdown",
   "id": "425d407e",
   "metadata": {},
   "source": [
    "Applying simple CountVectorizer() function without using any kind of data wrangling techniques.\n",
    "\n",
    "This is to check whether the dataset which has stopwords, irrelevant data, or is having some missing data, can be efficient for the classification model or other refined datasets will have better accuracy."
   ]
  },
  {
   "cell_type": "code",
   "execution_count": 5,
   "id": "37103007",
   "metadata": {
    "scrolled": false
   },
   "outputs": [
    {
     "name": "stdout",
     "output_type": "stream",
     "text": [
      "Feature extraction(wthout any preprocessing): vocabulary size is 143335 in 14134 documents\n",
      "NB classifier accuracy: 0.8964\n"
     ]
    }
   ],
   "source": [
    "feature_extraction_1 = CountVectorizer(analyzer= 'word')\n",
    "Vocabulary_training = feature_extraction_1.fit_transform(X_train)\n",
    "print('Feature extraction(wthout any preprocessing): vocabulary size is {} in {} documents'.format(Vocabulary_training.shape[1], Vocabulary_training.shape[0]))\n",
    "\n",
    "Vocabulary_developing= feature_extraction_1.transform(X_dev)\n",
    "classifier_NB = MultinomialNB(alpha=0.01)\n",
    "classifier_NB.fit(Vocabulary_training, Y_train)\n",
    "pred = classifier_NB.predict(Vocabulary_developing)\n",
    "print(\"NB classifier accuracy: {}\".format(round(metrics.accuracy_score(Y_dev, pred),4)))\n",
    "xp.append(\"FE1\")\n",
    "yp.append(round(metrics.accuracy_score(Y_dev, pred),4))"
   ]
  },
  {
   "cell_type": "markdown",
   "id": "0c188933",
   "metadata": {},
   "source": [
    "Function Stem_token() for stemming of texts or tokens,using Porter's Algorithm using the function PorterStemmer() \n",
    "from from nltk.stem.porter import PorterStemmer"
   ]
  },
  {
   "cell_type": "code",
   "execution_count": 6,
   "id": "450fc9a7",
   "metadata": {},
   "outputs": [],
   "source": [
    "def Stem_token(text):\n",
    "    stemmer = PorterStemmer()\n",
    "    return [stemmer.stem(w) for w in word_tokenize(text)]"
   ]
  },
  {
   "cell_type": "markdown",
   "id": "fa98932c",
   "metadata": {},
   "source": [
    "Function Stem_stopword_tokenize() for stemming of stopwords , by using the above function Stem_token() ."
   ]
  },
  {
   "cell_type": "code",
   "execution_count": 7,
   "id": "80e8a805",
   "metadata": {},
   "outputs": [],
   "source": [
    "stop_words=[]\n",
    "def Stem_stopword_tokenize(li):\n",
    "    for w in li:\n",
    "        ws=Stem_token(w)\n",
    "        if len(ws)>1:\n",
    "            for i in range(len(ws)):\n",
    "                stop_words.append(ws[i])\n",
    "        else:\n",
    "            stop_words.append(ws[0])\n",
    "    return stop_words\n",
    "        "
   ]
  },
  {
   "cell_type": "markdown",
   "id": "6c26b0ee",
   "metadata": {},
   "source": [
    "**Feature Extraction 2: By tokenization, stemming and removal of stopwords and punctuations**"
   ]
  },
  {
   "cell_type": "markdown",
   "id": "1563f73b",
   "metadata": {},
   "source": [
    "We are using CountVectorizer() function with parameters like: \n",
    "- tokenizer:which will tokenize the dataset.\n",
    "- stop_words:For removing stop_words and punctuations and extra 2 elements :``,becau\n",
    "\n",
    "Under these conditions, we are checking whether the datasets don't have any stopwords and punctuations has a better model accuracy or not."
   ]
  },
  {
   "cell_type": "code",
   "execution_count": 8,
   "id": "54811864",
   "metadata": {},
   "outputs": [
    {
     "name": "stdout",
     "output_type": "stream",
     "text": [
      "Feature extraction 2: vocabulary size is 176885 in 14134 documents\n",
      "NB classifier accuracy: 0.8939\n"
     ]
    }
   ],
   "source": [
    "stop_words=Stem_stopword_tokenize(stopwords.words('english'))+ list(string.punctuation)+['``', 'becau']\n",
    "Feature_extraction_2= CountVectorizer(analyzer= 'word', tokenizer=Stem_token,\n",
    "                               stop_words=stop_words)\n",
    "Vocabulary_training = Feature_extraction_2.fit_transform(X_train)\n",
    "print('Feature extraction 2: vocabulary size is {} in {} documents'.format(Vocabulary_training.shape[1], Vocabulary_training.shape[0]))\n",
    "\n",
    "Vocabulary_developing = Feature_extraction_2.transform(X_dev)\n",
    "classifier_NB = MultinomialNB(alpha=0.01)\n",
    "classifier_NB.fit(Vocabulary_training, Y_train)\n",
    "pred = classifier_NB.predict(Vocabulary_developing)\n",
    "print(\"NB classifier accuracy: {}\".format(round(metrics.accuracy_score(Y_dev, pred),4)))\n",
    "xp.append(\"FE2\")\n",
    "yp.append(round(metrics.accuracy_score(Y_dev, pred),4))"
   ]
  },
  {
   "cell_type": "markdown",
   "id": "68280b71",
   "metadata": {},
   "source": [
    "**Feature Extraction 3:By tokenization, stemming, removing accents, removal of stopwords and punctuations and performing other character normalization**"
   ]
  },
  {
   "cell_type": "markdown",
   "id": "c720946e",
   "metadata": {},
   "source": [
    "We are using CountVectorizer() function with parameters like: \n",
    "- tokenizer:which will tokenize the dataset.\n",
    "- stop_words:For removing stop_words and punctuations and extra 2 elements :``,becau\n",
    "- strip_accents:For removing accents and performing other character normalization\n",
    "- lowercase:Converting all to lowercase before tokenizing\n",
    "- ngram_range:(1,2)means unigrams and bigrams\n"
   ]
  },
  {
   "cell_type": "code",
   "execution_count": 9,
   "id": "a473b89f",
   "metadata": {
    "scrolled": true
   },
   "outputs": [
    {
     "name": "stdout",
     "output_type": "stream",
     "text": [
      "Feature extraction 3: vocabulary size is 1441567 in 14134 documents\n",
      "NB classifier accuracy: 0.9162\n"
     ]
    }
   ],
   "source": [
    "Feature_extraction_3 = CountVectorizer(analyzer= 'word', tokenizer=Stem_token,\n",
    "                                stop_words=Stem_stopword_tokenize(stopwords.words('english'))+ list(string.punctuation)+['``', 'becau'],\n",
    "                                lowercase=True, strip_accents='ascii', ngram_range=(1,2))\n",
    "Vocabulary_training= Feature_extraction_3.fit_transform(X_train)\n",
    "print('Feature extraction 3: vocabulary size is {} in {} documents'.format(Vocabulary_training.shape[1], Vocabulary_training.shape[0]))\n",
    "\n",
    "Vocabulary_developing = Feature_extraction_3.transform(X_dev)\n",
    "classifier_NB = MultinomialNB(alpha=0.01)\n",
    "classifier_NB.fit(Vocabulary_training, Y_train)\n",
    "pred = classifier_NB.predict(Vocabulary_developing)\n",
    "print(\"NB classifier accuracy: {}\".format(round(metrics.accuracy_score(Y_dev, pred),4)))\n",
    "xp.append(\"FE3\")\n",
    "yp.append(round(metrics.accuracy_score(Y_dev, pred),4))"
   ]
  },
  {
   "cell_type": "markdown",
   "id": "ddcdd256",
   "metadata": {},
   "source": [
    "**Feature Extraction 4:Same parameters as the Feature Extraction 3 but using a different function TfidfVectorizer() for tokenization of words.**"
   ]
  },
  {
   "cell_type": "markdown",
   "id": "d46f91be",
   "metadata": {},
   "source": [
    "Count Vectorizer give number of frequency with respect to index of vocabulary where as tf-idf consider overall documents of weight of words.\n",
    "Hence, in this Feature extraction algorithm we are using TfidVectorizer instead of CountVectorizer."
   ]
  },
  {
   "cell_type": "markdown",
   "id": "2b19bb6f",
   "metadata": {},
   "source": [
    "We are using TfidVectorizer() function with parameters like: \n",
    "- tokenizer:which will tokenize the dataset.\n",
    "- stop_words:For removing stop_words and punctuations and extra 2 elements :``,becau\n",
    "- strip_accents:For removing accents and performing other character normalization\n",
    "- lowercase:Converting all to lowercase before tokenizing\n",
    "- ngram_range:(1,2)means unigrams and bigrams\n",
    "- min_df: Ignoring terms that have a document frequency strictly lower than the given threshold.\n",
    "- max_df: ignoring terms that have a document frequency strictly higher than the given threshold.\n"
   ]
  },
  {
   "cell_type": "code",
   "execution_count": 10,
   "id": "5c1497bf",
   "metadata": {},
   "outputs": [
    {
     "name": "stdout",
     "output_type": "stream",
     "text": [
      "Feature extraction 4: vocabulary size is 86096 in 14134 documents\n",
      "NB classifier accuracy: 0.9197\n"
     ]
    }
   ],
   "source": [
    "Feature_extraction_4 = TfidfVectorizer(analyzer= 'word', tokenizer=Stem_token,\n",
    "                                stop_words=Stem_stopword_tokenize(stopwords.words('english'))+ list(string.punctuation)+['``', 'becau'],\n",
    "                                lowercase=True, strip_accents='ascii', ngram_range=(1,2),\n",
    "                                min_df=5, max_df= 0.75)\n",
    "Vocabulary_training = Feature_extraction_4.fit_transform(X_train)\n",
    "print('Feature extraction 4: vocabulary size is {} in {} documents'.format(Vocabulary_training.shape[1], Vocabulary_training.shape[0]))\n",
    "\n",
    "Vocabulary_developing = Feature_extraction_4.transform(X_dev)\n",
    "classifier_NB = MultinomialNB(alpha=0.01)\n",
    "classifier_NB.fit(Vocabulary_training, Y_train)\n",
    "pred = classifier_NB.predict(Vocabulary_developing)\n",
    "print(\"NB classifier accuracy: {}\".format(round(metrics.accuracy_score(Y_dev, pred),4)))\n",
    "xp.append(\"FE4\")\n",
    "yp.append(round(metrics.accuracy_score(Y_dev, pred),4))"
   ]
  },
  {
   "cell_type": "markdown",
   "id": "578dfb79",
   "metadata": {},
   "source": [
    "**Finalized Feature Extraction Algorithm**"
   ]
  },
  {
   "cell_type": "markdown",
   "id": "bec68ec6",
   "metadata": {},
   "source": [
    "From the graph given below, we know that feature extraction 4  has the best NB classifier accuracy, so we are going to use it for our classification models and prediction algorithm. \n",
    "\n",
    "Our finalized Feature extraction is Feature_extraction_4 as it has the maximum NB classifier accuracy."
   ]
  },
  {
   "cell_type": "code",
   "execution_count": 11,
   "id": "565ef1b7",
   "metadata": {},
   "outputs": [
    {
     "data": {
      "image/png": "[encoded data removed]",
      "text/plain": [
       "<Figure size 432x288 with 1 Axes>"
      ]
     },
     "metadata": {
      "needs_background": "light"
     },
     "output_type": "display_data"
    }
   ],
   "source": [
    "x = np.array(xp)\n",
    "y= np.array(yp)\n",
    "plt.bar(x,y)\n",
    "plt.show()"
   ]
  },
  {
   "cell_type": "markdown",
   "id": "8c45adde",
   "metadata": {},
   "source": [
    "### Train and Test"
   ]
  },
  {
   "cell_type": "markdown",
   "id": "a73a5f1f",
   "metadata": {},
   "source": [
    "**Classifier Models: Multinomial Naive Bayes(MultinomialNB()) classifier, Logistic Regression(LogisticRegression()) and Stochastic Gradient Descent(SGDClassifier())**\n",
    "\n",
    "We are using three different machine learning techniques for the classification model and we will select the one, which will have the best model accuracy .\n",
    "These 3 Machine Learning Techniques are:\n",
    "- Multinomial Naive Bayes\n",
    "- Logistic Regression\n",
    "- Stochastic Gradient Descent"
   ]
  },
  {
   "cell_type": "code",
   "execution_count": 12,
   "id": "f3e3f3d2",
   "metadata": {
    "scrolled": true
   },
   "outputs": [
    {
     "name": "stdout",
     "output_type": "stream",
     "text": [
      "NB classifier accuracy: 0.9066\n",
      "Logistic regression classifier accuracy: 0.9151\n",
      "Stochastic Gradient Descent classifier accuracy: 0.9188\n"
     ]
    }
   ],
   "source": [
    "Vocabulary_test = Feature_extraction_4.transform(X_test)\n",
    "classifier_NB = MultinomialNB(alpha=0.01)\n",
    "classifier_NB.fit(Vocabulary_training, Y_train)\n",
    "predict = classifier_NB.predict(Vocabulary_test)\n",
    "print(\"NB classifier accuracy: {}\".format(round(metrics.accuracy_score(Y_test, predict),4)))\n",
    "xpc.append(\"NB classifier\")\n",
    "ypc.append(round(metrics.accuracy_score(Y_test, predict),4))\n",
    "\n",
    "classifier_logistic_regression = LogisticRegression(penalty = 'l2', solver='sag', C=5, random_state=RANDOM_STATE, n_jobs=-1)\n",
    "classifier_logistic_regression.fit(Vocabulary_training, Y_train)\n",
    "predict = classifier_logistic_regression.predict(Vocabulary_test)\n",
    "print(\"Logistic regression classifier accuracy: {}\".format(round(metrics.accuracy_score(Y_test, predict),4)))\n",
    "xpc.append(\"LR classifier\")\n",
    "ypc.append(round(metrics.accuracy_score(Y_test, predict),4))\n",
    "\n",
    "classifier_SGD = SGDClassifier(tol=0.0001, penalty=\"l2\", alpha=0.0001, random_state=RANDOM_STATE, n_jobs=-1)\n",
    "classifier_SGD.fit(Vocabulary_training, Y_train)\n",
    "predict = classifier_SGD.predict(Vocabulary_test)\n",
    "print(\"Stochastic Gradient Descent classifier accuracy: {}\".format(round(metrics.accuracy_score(Y_test, predict),4)))\n",
    "xpc.append(\"SGD classifier\")\n",
    "ypc.append(round(metrics.accuracy_score(Y_test, predict),4))\n"
   ]
  },
  {
   "cell_type": "markdown",
   "id": "d9190fc2",
   "metadata": {},
   "source": [
    "**Graph of Accuracy vs Classification models**\n",
    "\n",
    "   Accuracies are given as:\n",
    "- NB classifier accuracy: 0.9058\n",
    "- Logistic regression classifier accuracy: 0.9151\n",
    "- Stochastic Gradient Descent classifier accuracy: 0.9202\n",
    "\n",
    "From the graph we can see that the SGDclassifier or Stochastic Gradient Descent classifier has the best accuracy for predicting input corpus into one of the 20 newsgroups.However, multinomial NB has marginally lower accuracy but perfoms significantly much faster than the other classifiers on the new test set "
   ]
  },
  {
   "cell_type": "code",
   "execution_count": 13,
   "id": "247a10e8",
   "metadata": {},
   "outputs": [
    {
     "data": {
      "image/png": "[encoded data removed]",
      "text/plain": [
       "<Figure size 432x288 with 1 Axes>"
      ]
     },
     "metadata": {
      "needs_background": "light"
     },
     "output_type": "display_data"
    }
   ],
   "source": [
    "xc = np.array(xpc)\n",
    "yc= np.array(ypc)\n",
    "plt.bar(xc,yc)\n",
    "plt.show()"
   ]
  },
  {
   "cell_type": "markdown",
   "id": "2882c072",
   "metadata": {},
   "source": [
    "### Prediction algorithm based Stochastic Gradient Descent Classifier"
   ]
  },
  {
   "cell_type": "markdown",
   "id": "e6f50e7b",
   "metadata": {},
   "source": [
    "AS SGD classifier has the best accuracy we are going to use this for predicting input text(corpus) using the predictingNewsGroup() function which prints the following:\n",
    "\n",
    "Predicted newsgroup: filename\n",
    "\n",
    "For this I am using 5 sentences from the 20 newsgroups dataset to check its integrity."
   ]
  },
  {
   "cell_type": "code",
   "execution_count": 14,
   "id": "40f5f621",
   "metadata": {},
   "outputs": [
    {
     "name": "stdout",
     "output_type": "stream",
     "text": [
      "\n",
      "Predicted newsgroup: alt.atheism\n",
      "Predicted newsgroup: sci.crypt\n",
      "Predicted newsgroup: rec.sport.hockey\n",
      "Predicted newsgroup: rec.autos\n",
      "Predicted newsgroup: talk.politics.guns\n"
     ]
    }
   ],
   "source": [
    "def predictingNewsGroup(text, classifier):\n",
    "    Vocabulary_test = Feature_extraction_4.transform([text])\n",
    "    targets = dataset_news.target_names\n",
    "    idx = classifier.predict(Vocabulary_test)\n",
    "    print(\"Predicted newsgroup: {}\".format(targets[int(idx)]))\n",
    "    return\n",
    "\n",
    "print()\n",
    "predictingNewsGroup(\"My argument is that the sole purpose of the death penalty is tok ill people\", classifier_SGD)\n",
    "predictingNewsGroup(\"RIPEM is available via anonymous FTP to citizens and permanent residents in the U.S\", classifier_SGD)\n",
    "predictingNewsGroup(\"Honorable mentions to Majestic Marty and Warren Rychel\", classifier_SGD)\n",
    "predictingNewsGroup(\"left turn signal won't stop automaticaly\", classifier_SGD)\n",
    "predictingNewsGroup(\"here is it difficult to obtain handguns legally for protection, registration figures are meaningless.\", classifier_SGD)"
   ]
  }
 ],
 "metadata": {
  "kernelspec": {
   "display_name": "Python 3",
   "language": "python",
   "name": "python3"
  },
  "language_info": {
   "codemirror_mode": {
    "name": "ipython",
    "version": 3
   },
   "file_extension": ".py",
   "mimetype": "text/x-python",
   "name": "python",
   "nbconvert_exporter": "python",
   "pygments_lexer": "ipython3",
   "version": "3.8.8"
  }
 },
 "nbformat": 4,
 "nbformat_minor": 5
}
